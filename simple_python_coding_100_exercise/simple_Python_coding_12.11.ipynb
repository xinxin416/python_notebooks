{
 "cells": [
  {
   "cell_type": "markdown",
   "metadata": {},
   "source": [
    "### 31. 编写一个函数，输出键为1-20，值为键的平方"
   ]
  },
  {
   "cell_type": "code",
   "execution_count": 2,
   "metadata": {},
   "outputs": [
    {
     "name": "stdout",
     "output_type": "stream",
     "text": [
      "{1: 1, 2: 4, 3: 9, 4: 16, 5: 25, 6: 36, 7: 49, 8: 64, 9: 81, 10: 100, 11: 121, 12: 144, 13: 169, 14: 196, 15: 225, 16: 256, 17: 289, 18: 324, 19: 361, 20: 400}\n"
     ]
    }
   ],
   "source": [
    "def printDict():\n",
    "    dict = {i: i ** 2 for i in range(1, 21)}  # Using comprehension method and\n",
    "    print(dict)\n",
    "\n",
    "\n",
    "printDict()"
   ]
  },
  {
   "cell_type": "markdown",
   "metadata": {},
   "source": [
    "### 32. 编写一个函数，输出键为1-20，值为键的平方。只输出键"
   ]
  },
  {
   "cell_type": "code",
   "execution_count": 4,
   "metadata": {},
   "outputs": [
    {
     "name": "stdout",
     "output_type": "stream",
     "text": [
      "dict_keys([1, 2, 3, 4, 5, 6, 7, 8, 9, 10, 11, 12, 13, 14, 15, 16, 17, 18, 19, 20])\n"
     ]
    }
   ],
   "source": [
    "def printDict():\n",
    "    dict = {i: i ** 2 for i in range(1, 21)}  # Using comprehension method and\n",
    "    print(dict.keys())\n",
    "\n",
    "\n",
    "printDict()"
   ]
  },
  {
   "cell_type": "markdown",
   "metadata": {},
   "source": [
    "### 33. 编写一个函数，输出值为1-20的平方的列表"
   ]
  },
  {
   "cell_type": "code",
   "execution_count": 6,
   "metadata": {},
   "outputs": [
    {
     "name": "stdout",
     "output_type": "stream",
     "text": [
      "[1, 4, 9, 16, 25, 36, 49, 64, 81, 100, 121, 144, 169, 196, 225, 256, 289, 324, 361, 400]\n"
     ]
    }
   ],
   "source": [
    "def printList():\n",
    "    lst = [i**2 for i in range(1, 21)] # Using comprehension method and\n",
    "    print(lst)\n",
    "\n",
    "\n",
    "printList()"
   ]
  },
  {
   "cell_type": "markdown",
   "metadata": {},
   "source": [
    "### 34. 编写一个函数，列表存储为1-20的平方，输出前5个数"
   ]
  },
  {
   "cell_type": "code",
   "execution_count": 8,
   "metadata": {},
   "outputs": [
    {
     "name": "stdout",
     "output_type": "stream",
     "text": [
      "1\n",
      "4\n",
      "9\n",
      "16\n",
      "25\n"
     ]
    }
   ],
   "source": [
    "def printList():\n",
    "    lst = [i**2 for i in range(1, 21)] # Using comprehension method and\n",
    "    ##print(lst[:5]) ### 这种方式只输出列表，而不是元素\n",
    "    for i in range(5):\n",
    "        print(lst[i])\n",
    "\n",
    "printList()"
   ]
  },
  {
   "cell_type": "markdown",
   "metadata": {},
   "source": [
    "### OR"
   ]
  },
  {
   "cell_type": "code",
   "execution_count": 10,
   "metadata": {},
   "outputs": [
    {
     "name": "stdout",
     "output_type": "stream",
     "text": [
      "1\n",
      "4\n",
      "9\n",
      "16\n",
      "25\n"
     ]
    }
   ],
   "source": [
    "func = lambda: ([i ** 2 for i in range(1, 21)][:5])\n",
    "print(*(func()), sep=\"\\n\")"
   ]
  },
  {
   "cell_type": "markdown",
   "metadata": {},
   "source": [
    "### 35. 编写一个函数，列表存储为1-20的平方，输出最后5个数"
   ]
  },
  {
   "cell_type": "code",
   "execution_count": 12,
   "metadata": {},
   "outputs": [
    {
     "name": "stdout",
     "output_type": "stream",
     "text": [
      "400\n",
      "361\n",
      "324\n",
      "289\n",
      "256\n"
     ]
    }
   ],
   "source": [
    "def printList():\n",
    "    lst = [i**2 for i in range(1, 21)] # Using comprehension method and\n",
    "    ##print(lst[:5]) ### 这种方式只输出列表，而不是元素\n",
    "    for i in range(5):\n",
    "        print(lst[-i-1])  ### 最后几个元素\n",
    "\n",
    "printList()"
   ]
  },
  {
   "cell_type": "markdown",
   "metadata": {},
   "source": [
    "### 36. 编写一个函数，列表存储为1-20的平方，不输出前5个数"
   ]
  },
  {
   "cell_type": "code",
   "execution_count": 14,
   "metadata": {},
   "outputs": [
    {
     "name": "stdout",
     "output_type": "stream",
     "text": [
      "36\n",
      "49\n",
      "64\n",
      "81\n",
      "100\n",
      "121\n",
      "144\n",
      "169\n",
      "196\n",
      "225\n",
      "256\n",
      "289\n",
      "324\n",
      "361\n",
      "400\n"
     ]
    }
   ],
   "source": [
    "def printList():\n",
    "    lst = [i**2 for i in range(1, 21)] # Using comprehension method and\n",
    "    ##print(lst[:5]) ### 这种方式只输出列表，而不是元素\n",
    "    for i in range(5,20):  ### 务必使用range\n",
    "        print(lst[i])  ### 最后几个元素\n",
    "\n",
    "printList()"
   ]
  },
  {
   "cell_type": "markdown",
   "metadata": {},
   "source": [
    "### 37. 编写一个函数，用元祖存储为1-20的平方，输出每个值。"
   ]
  },
  {
   "cell_type": "code",
   "execution_count": 16,
   "metadata": {},
   "outputs": [
    {
     "name": "stdout",
     "output_type": "stream",
     "text": [
      "(1, 4, 9, 16, 25, 36, 49, 64, 81, 100, 121, 144, 169, 196, 225, 256, 289, 324, 361, 400)\n"
     ]
    }
   ],
   "source": [
    "def printTuple():\n",
    "    lst = [i**2 for i in range(1, 21)] # Using comprehension method and\n",
    "    ##print(lst[:5]) ### 这种方式只输出列表，而不是元素\n",
    "    print(tuple(lst))  \n",
    "\n",
    "printTuple()"
   ]
  },
  {
   "cell_type": "markdown",
   "metadata": {},
   "source": [
    "### OR"
   ]
  },
  {
   "cell_type": "code",
   "execution_count": 18,
   "metadata": {},
   "outputs": [
    {
     "name": "stdout",
     "output_type": "stream",
     "text": [
      "(1, 4, 9, 16, 25, 36, 49, 64, 81, 100, 121, 144, 169, 196, 225, 256, 289, 324, 361, 400)\n"
     ]
    }
   ],
   "source": [
    "def square_of_numbers():\n",
    "    return tuple(i ** 2 for i in range(1, 21))  ## 可以不用方括号表示了\n",
    "\n",
    "\n",
    "print(square_of_numbers())"
   ]
  },
  {
   "cell_type": "markdown",
   "metadata": {},
   "source": [
    "### 38. With a given tuple (1,2,3,4,5,6,7,8,9,10), write a program to print the first half values in one line and the last half values in one line."
   ]
  },
  {
   "cell_type": "code",
   "execution_count": null,
   "metadata": {},
   "outputs": [],
   "source": [
    "tup=(1,2,3,4,5,6,7,8,9,10)"
   ]
  },
  {
   "cell_type": "code",
   "execution_count": 21,
   "metadata": {},
   "outputs": [
    {
     "name": "stdout",
     "output_type": "stream",
     "text": [
      "(1, 2, 3, 4, 5) (6, 7, 8, 9, 10)\n"
     ]
    }
   ],
   "source": [
    "import math\n",
    "def printTuple(tup):\n",
    "    mid=math.floor(len(tup)/2)\n",
    "    print(tup[:mid],tup[mid:])\n",
    "    #print(tup[mid:])\n",
    "    \n",
    "printTuple(tup)"
   ]
  },
  {
   "cell_type": "markdown",
   "metadata": {},
   "source": [
    "### OR range 步长参数"
   ]
  },
  {
   "cell_type": "code",
   "execution_count": 23,
   "metadata": {},
   "outputs": [
    {
     "name": "stdout",
     "output_type": "stream",
     "text": [
      "split list:(1, 2, 3, 4, 5)\n",
      "split list:(6, 7, 8, 9, 10)\n"
     ]
    },
    {
     "data": {
      "text/plain": [
       "[None, None]"
      ]
     },
     "execution_count": 23,
     "metadata": {},
     "output_type": "execute_result"
    }
   ],
   "source": [
    "[print(\"split list:{lst}\".format(lst=tup[x:x+5])) for x in range(0,len(tup),5)]"
   ]
  },
  {
   "cell_type": "markdown",
   "metadata": {},
   "source": [
    "### 39. Write a program to generate and print another tuple whose values are even numbers in the given tuple (1,2,3,4,5,6,7,8,9,10)."
   ]
  },
  {
   "cell_type": "code",
   "execution_count": 25,
   "metadata": {},
   "outputs": [
    {
     "name": "stdout",
     "output_type": "stream",
     "text": [
      "(1, 3, 5, 7, 9)\n"
     ]
    }
   ],
   "source": [
    "tup2=tuple(x for x in tup if x%2!=0)  ## 取余\n",
    "print(tup2)"
   ]
  },
  {
   "cell_type": "markdown",
   "metadata": {},
   "source": [
    "### OR filter 函数"
   ]
  },
  {
   "cell_type": "code",
   "execution_count": 27,
   "metadata": {},
   "outputs": [
    {
     "name": "stdout",
     "output_type": "stream",
     "text": [
      "(1, 3, 5, 7, 9)\n"
     ]
    }
   ],
   "source": [
    "func=lambda x: x%2!=0\n",
    "tup3=tuple(filter(func,tup))  ### filter 返回值为迭代器，需要转换为元祖\n",
    "print(tup3)"
   ]
  },
  {
   "cell_type": "markdown",
   "metadata": {},
   "source": [
    "### 40. Write a program which accepts a string as input to print \"Yes\" if the string is \"yes\" or \"YES\" or \"Yes\", otherwise print \"No\"."
   ]
  },
  {
   "cell_type": "code",
   "execution_count": 29,
   "metadata": {},
   "outputs": [
    {
     "name": "stdout",
     "output_type": "stream",
     "text": [
      "yss\n",
      "No\n"
     ]
    }
   ],
   "source": [
    "if input().strip() in ['yes','YES','Yes']:\n",
    "    print('Yes')\n",
    "else:\n",
    "    print('No')"
   ]
  },
  {
   "cell_type": "markdown",
   "metadata": {},
   "source": [
    "## OR 列表解析"
   ]
  },
  {
   "cell_type": "code",
   "execution_count": 32,
   "metadata": {},
   "outputs": [
    {
     "name": "stdout",
     "output_type": "stream",
     "text": [
      "yes\n",
      "Yes\n"
     ]
    }
   ],
   "source": [
    "s = input()\n",
    "output = \"\".join(\n",
    "    [\"Yes\" if s == \"yes\" or s == \"YES\" or s == \"Yes\" else \"No\"]  ### 'str' object is not callable,通常是调用了内置函数或方法，所以在命名上需小心\n",
    ")\n",
    "print(output)"
   ]
  },
  {
   "cell_type": "markdown",
   "metadata": {},
   "source": [
    "### 41. Write a program which can map() to make a list whose elements are square of elements in [1,2,3,4,5,6,7,8,9,10]."
   ]
  },
  {
   "cell_type": "code",
   "execution_count": 37,
   "metadata": {},
   "outputs": [
    {
     "name": "stdout",
     "output_type": "stream",
     "text": [
      "[1, 4, 9, 16, 25, 36, 49, 64, 81, 100]\n"
     ]
    }
   ],
   "source": [
    "lst=[1,2,3,4,5,6,7,8,9,10]\n",
    "lstSquare=map(lambda x: x**2, lst)  ### return map object, an iterable object\n",
    "print(list(lstSquare))  ## need to convert into list"
   ]
  },
  {
   "cell_type": "markdown",
   "metadata": {},
   "source": [
    "### 42. Write a program which can map() and filter() to make a list whose elements are square of even number in [1,2,3,4,5,6,7,8,9,10]."
   ]
  },
  {
   "cell_type": "code",
   "execution_count": 40,
   "metadata": {},
   "outputs": [
    {
     "name": "stdout",
     "output_type": "stream",
     "text": [
      "[1, 9, 25, 49, 81]\n"
     ]
    }
   ],
   "source": [
    "lst2=filter(lambda x: x%2!=0,map(lambda x: x**2, lst))  ### 与map 类似，filter 也返回迭代器\n",
    "print(list(lst2))"
   ]
  },
  {
   "cell_type": "markdown",
   "metadata": {},
   "source": [
    "### 43. Write a program which can filter() to make a list whose elements are even number between 1 and 20 (both included)"
   ]
  },
  {
   "cell_type": "code",
   "execution_count": 43,
   "metadata": {},
   "outputs": [
    {
     "name": "stdout",
     "output_type": "stream",
     "text": [
      "[1, 3, 5, 7, 9, 11, 13, 15, 17, 19]\n"
     ]
    }
   ],
   "source": [
    "lst2=filter(lambda x: x%2!=0,range(1,21))  ### 注意range 范围，默认从0开始，不包括最后一个参数的值\n",
    "print(list(lst2))"
   ]
  },
  {
   "cell_type": "markdown",
   "metadata": {},
   "source": [
    "### 44. Write a program which can map() to make a list whose elements are square of numbers between 1 and 20 (both included)."
   ]
  },
  {
   "cell_type": "code",
   "execution_count": 45,
   "metadata": {},
   "outputs": [
    {
     "name": "stdout",
     "output_type": "stream",
     "text": [
      "[1, 4, 9, 16, 25, 36, 49, 64, 81, 100, 121, 144, 169, 196, 225, 256, 289, 324, 361, 400]\n"
     ]
    }
   ],
   "source": [
    "lstSquare=map(lambda x: x**2, range(1,21))  ### return map object, an iterable object\n",
    "print(list(lstSquare))"
   ]
  },
  {
   "cell_type": "markdown",
   "metadata": {},
   "source": [
    "### 45. Define a class named American which has a static method called printNationality.\n",
    "\n",
    "### Hint\n",
    ">Use @staticmethod decorator to define class static method.There are also two more methods.To know more, go to this [link](https://realpython.com/instance-class-and-static-methods-demystified/).\n",
    "\n",
    "\n",
    "@staticmethod\n",
    "静态方法，通过类直接调用，不需要创建对象，不会隐式传递self\n",
    "\n",
    "@classmethod\n",
    "类方法，方法中的self是类本身，调用方法时传的值也必须是类的公有属性，\n",
    "就是说类方法只能操作类本身的公有字段"
   ]
  },
  {
   "cell_type": "code",
   "execution_count": 56,
   "metadata": {},
   "outputs": [
    {
     "name": "stdout",
     "output_type": "stream",
     "text": [
      "America\n"
     ]
    }
   ],
   "source": [
    "class America:\n",
    "    @staticmethod   ### 静态方法标记\n",
    "    def printNationality():    ### 需要传递参数，如果不适用静态方法标签，否则会报错\n",
    "        print(\"America\")\n",
    "        \n",
    "    def printNation(self):\n",
    "        print('instance method called')\n",
    "        \n",
    "    @classmethod\n",
    "    def classmethod(cls):\n",
    "        print('class method called')\n",
    "        \n",
    "us=America()   ### 实例化对象\n",
    "us.printNationality()  # this will not run if @staticmethod does not decorates the function."
   ]
  },
  {
   "cell_type": "code",
   "execution_count": 58,
   "metadata": {},
   "outputs": [
    {
     "name": "stdout",
     "output_type": "stream",
     "text": [
      "instance method called\n"
     ]
    }
   ],
   "source": [
    "us.printNation()"
   ]
  },
  {
   "cell_type": "markdown",
   "metadata": {},
   "source": [
    "### 类方法、实例方法、静态方法比较"
   ]
  },
  {
   "cell_type": "code",
   "execution_count": 65,
   "metadata": {},
   "outputs": [
    {
     "name": "stdout",
     "output_type": "stream",
     "text": [
      "是类<class '__main__.Foo'>的实例方法，只能被实例对象调用\n",
      "是静态方法\n",
      "是类方法\n",
      "----------------\n",
      "是静态方法\n",
      "是类方法\n"
     ]
    },
    {
     "ename": "TypeError",
     "evalue": "instance_method() missing 1 required positional argument: 'self'",
     "output_type": "error",
     "traceback": [
      "\u001b[1;31m---------------------------------------------------------------------------\u001b[0m",
      "\u001b[1;31mTypeError\u001b[0m                                 Traceback (most recent call last)",
      "\u001b[1;32m<ipython-input-65-b08f1692d406>\u001b[0m in \u001b[0;36m<module>\u001b[1;34m\u001b[0m\n\u001b[0;32m     20\u001b[0m \u001b[0mFoo\u001b[0m\u001b[1;33m.\u001b[0m\u001b[0mstatic_method\u001b[0m\u001b[1;33m(\u001b[0m\u001b[1;33m)\u001b[0m\u001b[1;33m\u001b[0m\u001b[1;33m\u001b[0m\u001b[0m\n\u001b[0;32m     21\u001b[0m \u001b[0mFoo\u001b[0m\u001b[1;33m.\u001b[0m\u001b[0mclass_method\u001b[0m\u001b[1;33m(\u001b[0m\u001b[1;33m)\u001b[0m\u001b[1;33m\u001b[0m\u001b[1;33m\u001b[0m\u001b[0m\n\u001b[1;32m---> 22\u001b[1;33m \u001b[0mFoo\u001b[0m\u001b[1;33m.\u001b[0m\u001b[0minstance_method\u001b[0m\u001b[1;33m(\u001b[0m\u001b[1;33m)\u001b[0m\u001b[1;33m\u001b[0m\u001b[1;33m\u001b[0m\u001b[0m\n\u001b[0m",
      "\u001b[1;31mTypeError\u001b[0m: instance_method() missing 1 required positional argument: 'self'"
     ]
    }
   ],
   "source": [
    "class Foo(object):\n",
    "    \"\"\"类三种方法语法形式\"\"\"\n",
    " \n",
    "    def instance_method(self):\n",
    "        print(\"是类{}的实例方法，只能被实例对象调用\".format(Foo))\n",
    " \n",
    "    @staticmethod\n",
    "    def static_method():\n",
    "        print(\"是静态方法\")\n",
    " \n",
    "    @classmethod\n",
    "    def class_method(cls):\n",
    "        print(\"是类方法\")\n",
    " \n",
    "foo = Foo()\n",
    "foo.instance_method()\n",
    "foo.static_method()\n",
    "foo.class_method()\n",
    "print('----------------')\n",
    "Foo.static_method()\n",
    "Foo.class_method()\n",
    "Foo.instance_method()"
   ]
  },
  {
   "cell_type": "markdown",
   "metadata": {},
   "source": [
    "### 46. Define a class named American and its subclass NewYorker."
   ]
  },
  {
   "cell_type": "code",
   "execution_count": 62,
   "metadata": {},
   "outputs": [
    {
     "name": "stdout",
     "output_type": "stream",
     "text": [
      "<__main__.American object at 0x000001F5CC1E8308>\n",
      "<__main__.NewYorker object at 0x000001F5CC1E85C8>\n"
     ]
    }
   ],
   "source": [
    "class American:\n",
    "    pass\n",
    "\n",
    "\n",
    "class NewYorker(American):  ## 继承\n",
    "    pass\n",
    "\n",
    "\n",
    "american = American()\n",
    "newyorker = NewYorker()\n",
    "\n",
    "print(american)\n",
    "print(newyorker)"
   ]
  },
  {
   "cell_type": "code",
   "execution_count": null,
   "metadata": {},
   "outputs": [],
   "source": [
    "### 小结\n",
    "\n",
    "* 主要练习了字典、列表、元祖相关的操作，利用列表解析式及切片操作符提取指定部位元素。\n",
    "* 熟悉了两个python 高效的函数，filter、map，二者在Python3 都生成迭代器，在输出结果时按需转换为相应列表或元祖。两者的灵活应用及匿名函数的使用，能极大提高操作效率\n",
    "* 了解了python 类的静态方法和类方法标签。静态方法能忽略`self` 参数，类方法参数是类本身`cls`,实例方法只能被实例对象调用\n",
    "* 另外需要注意一些细节，比如for循环中元素务必使用迭代器，如range、tuple、list等，而不是一个数字。\n",
    "* 其次，在切片操作符，`range`函数的步长参数也是一种技巧\n"
   ]
  },
  {
   "cell_type": "code",
   "execution_count": null,
   "metadata": {},
   "outputs": [],
   "source": []
  }
 ],
 "metadata": {
  "kernelspec": {
   "display_name": "Python 3",
   "language": "python",
   "name": "python3"
  },
  "language_info": {
   "codemirror_mode": {
    "name": "ipython",
    "version": 3
   },
   "file_extension": ".py",
   "mimetype": "text/x-python",
   "name": "python",
   "nbconvert_exporter": "python",
   "pygments_lexer": "ipython3",
   "version": "3.7.6"
  }
 },
 "nbformat": 4,
 "nbformat_minor": 4
}

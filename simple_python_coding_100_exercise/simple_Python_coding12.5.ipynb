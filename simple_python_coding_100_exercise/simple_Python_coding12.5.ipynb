{
 "cells": [
  {
   "cell_type": "markdown",
   "metadata": {},
   "source": [
    "### 20. Define a class with a generator which can iterate the numbers, which are divisible by 7, between a given range 0 and n.\n",
    "\n",
    "### 其中，迭代器yield可以应用"
   ]
  },
  {
   "cell_type": "code",
   "execution_count": 1,
   "metadata": {
    "scrolled": true
   },
   "outputs": [
    {
     "name": "stdout",
     "output_type": "stream",
     "text": [
      "Please insert a number. --> 50\n",
      "0\n",
      "7\n",
      "14\n",
      "21\n",
      "28\n",
      "35\n",
      "42\n",
      "49\n"
     ]
    }
   ],
   "source": [
    "class Divisible:\n",
    "    def by_seven(self, n):  ## self？\n",
    "        for number in range(n + 1):\n",
    "            if number % 7 == 0:\n",
    "                yield number  ## 返回迭代器\n",
    "\n",
    "divisible = Divisible()\n",
    "generator = divisible.by_seven(int(input(\"Please insert a number. --> \")))\n",
    "for number in generator:\n",
    "    print(number)"
   ]
  },
  {
   "cell_type": "markdown",
   "metadata": {},
   "source": [
    "### 21. 统计棋盘运行之后的当前位置与初始位置的距离，如果距离为浮点数，返回与整数最近的那个数。\n",
    "\n",
    "A robot moves in a plane starting from the original point (0,0). The robot can move toward UP, DOWN, LEFT and RIGHT with a given steps. The trace of robot movement is shown as the following:\n",
    "\n",
    "UP 5\n",
    "\n",
    "DOWN 3\n",
    "\n",
    "LEFT 3\n",
    "\n",
    "RIGHT 2\n",
    "\n",
    "Then, the output of the program should be:\n",
    "    2"
   ]
  },
  {
   "cell_type": "code",
   "execution_count": 5,
   "metadata": {},
   "outputs": [],
   "source": [
    "import math\n",
    "def countDist(steps):\n",
    "    x,y=0,0\n",
    "    for s in steps:\n",
    "        if s[0]=='U':\n",
    "            y += int(s[1])\n",
    "        if s[0]=='D':\n",
    "            y -= int(s[1])\n",
    "        if s[0]=='L':\n",
    "            x -= int(s[1])\n",
    "        if s[0]=='R':\n",
    "            x += int(s[1])\n",
    "    return(round(math.sqrt(x**2 + y**2)))  ## math.sqrt "
   ]
  },
  {
   "cell_type": "code",
   "execution_count": 6,
   "metadata": {
    "scrolled": true
   },
   "outputs": [
    {
     "name": "stdout",
     "output_type": "stream",
     "text": [
      "U 3\n",
      "L 2\n",
      "\n"
     ]
    },
    {
     "data": {
      "text/plain": [
       "4"
      ]
     },
     "execution_count": 6,
     "metadata": {},
     "output_type": "execute_result"
    }
   ],
   "source": [
    "lst=[]\n",
    "while True:\n",
    "    s=input().split()\n",
    "    if not s:\n",
    "        break\n",
    "    lst.append(s)\n",
    "\n",
    "countDist(lst)  ### 输入与函数分开处理"
   ]
  },
  {
   "cell_type": "markdown",
   "metadata": {},
   "source": [
    "### 22. 输入一串序列，包括数字、字母，统计其中每个单词出现的次数，并将其按字母表排序\n",
    "\n",
    ">Suppose the following input is supplied to the program:\n",
    "   \n",
    "New to Python or choosing between Python 2 and Python 3? Read Python 2 or Python 3.\n",
    "    \n",
    ">Then, the output should be:\n",
    "        \n",
    "2:2\n",
    "3.:1\n",
    "3?:1\n",
    "New:1\n",
    "Python:5\n",
    "Read:1\n",
    "and:1\n",
    "between:1\n",
    "choosing:1\n",
    "or:2\n",
    "to:1"
   ]
  },
  {
   "cell_type": "markdown",
   "metadata": {},
   "source": [
    "针对这一题，有多种方法：\n",
    "\n",
    "* 将序列分割后构建集合，其值为字典的键，对序列中键出现的次数统计，并排序\n",
    "* 使用dict.default函数，为每一个出现的单词创建默认值，将默认值修改为出现次数，最后对其排序\n",
    "* 使用列表解析式的变形，字典解析\n",
    "* 引入collections counter 方法，自动对序列每个单词出现的次数技术"
   ]
  },
  {
   "cell_type": "code",
   "execution_count": 8,
   "metadata": {},
   "outputs": [
    {
     "name": "stdout",
     "output_type": "stream",
     "text": [
      "New to Python or choosing between Python 2 and Python 3? Read Python 2 or Python 3.\n"
     ]
    }
   ],
   "source": [
    "lst=input().split()"
   ]
  },
  {
   "cell_type": "code",
   "execution_count": 13,
   "metadata": {},
   "outputs": [
    {
     "name": "stdout",
     "output_type": "stream",
     "text": [
      "2:2\n",
      "3.:1\n",
      "3?:1\n",
      "New:1\n",
      "Python:5\n",
      "Read:1\n",
      "and:1\n",
      "between:1\n",
      "choosing:1\n",
      "or:2\n",
      "to:1\n"
     ]
    }
   ],
   "source": [
    "ss=sorted(set(lst))\n",
    "for i in ss:\n",
    "    print(\"{0}:{1}\".format(i,lst.count(i)))"
   ]
  },
  {
   "cell_type": "markdown",
   "metadata": {},
   "source": [
    "### OR"
   ]
  },
  {
   "cell_type": "code",
   "execution_count": 14,
   "metadata": {},
   "outputs": [
    {
     "name": "stdout",
     "output_type": "stream",
     "text": [
      "2:2\n",
      "3.:1\n",
      "3?:1\n",
      "New:1\n",
      "Python:5\n",
      "Read:1\n",
      "and:1\n",
      "between:1\n",
      "choosing:1\n",
      "or:2\n",
      "to:1\n"
     ]
    }
   ],
   "source": [
    "dic={}\n",
    "for i in ss:\n",
    "    dic.setdefault(i,lst.count(i))  ### 默认值为lst.count()\n",
    "sorted(dic.items())\n",
    "for key,value in dic.items():\n",
    "    print(\"%s:%d\" % (key,value))"
   ]
  },
  {
   "cell_type": "markdown",
   "metadata": {},
   "source": [
    "### OR"
   ]
  },
  {
   "cell_type": "code",
   "execution_count": 23,
   "metadata": {},
   "outputs": [
    {
     "name": "stdout",
     "output_type": "stream",
     "text": [
      "2:2\n",
      "3.:1\n",
      "3?:1\n",
      "New:1\n",
      "Python:5\n",
      "Read:1\n",
      "and:1\n",
      "between:1\n",
      "choosing:1\n",
      "or:2\n",
      "to:1\n"
     ]
    }
   ],
   "source": [
    "dic={ i:lst.count(i) for i in ss}\n",
    "sorted(dic.items())\n",
    "for key,value in dic.items():\n",
    "    print(\"{0}:{1}\".format(key,value))"
   ]
  },
  {
   "cell_type": "code",
   "execution_count": 21,
   "metadata": {},
   "outputs": [
    {
     "name": "stdout",
     "output_type": "stream",
     "text": [
      "New:1\n",
      "to:1\n",
      "Python:5\n",
      "or:2\n",
      "choosing:1\n",
      "between:1\n",
      "2:2\n",
      "and:1\n",
      "3?:1\n",
      "Read:1\n",
      "3.:1\n"
     ]
    }
   ],
   "source": [
    "from collections import Counter\n",
    "dic=Counter(lst)\n",
    "sorted(dic.keys())   ### 这样排序不起作用？？？\n",
    "for key,value in dic.items():\n",
    "    print(\"{0}:{1}\".format(key,value))"
   ]
  },
  {
   "cell_type": "code",
   "execution_count": 29,
   "metadata": {},
   "outputs": [
    {
     "name": "stdout",
     "output_type": "stream",
     "text": [
      "2:2\n",
      "3.:1\n",
      "3?:1\n",
      "New:1\n",
      "Python:5\n",
      "Read:1\n",
      "and:1\n",
      "between:1\n",
      "choosing:1\n",
      "or:2\n",
      "to:1\n"
     ]
    }
   ],
   "source": [
    "dic=Counter(lst)\n",
    "ss=sorted(dic.items())   ### Counter 排序之后，返回的是元祖？\n",
    "for i in ss:\n",
    "    print(\"{0}:{1}\".format(i[0],i[1]))"
   ]
  },
  {
   "cell_type": "code",
   "execution_count": 26,
   "metadata": {},
   "outputs": [
    {
     "name": "stdout",
     "output_type": "stream",
     "text": [
      "[('2', 2), ('3.', 1), ('3?', 1), ('New', 1), ('Python', 5), ('Read', 1), ('and', 1), ('between', 1), ('choosing', 1), ('or', 2), ('to', 1)]\n"
     ]
    }
   ],
   "source": [
    "print(ss)"
   ]
  },
  {
   "cell_type": "code",
   "execution_count": 27,
   "metadata": {},
   "outputs": [
    {
     "data": {
      "text/plain": [
       "('2', 2)"
      ]
     },
     "execution_count": 27,
     "metadata": {},
     "output_type": "execute_result"
    }
   ],
   "source": [
    "ss[0]"
   ]
  },
  {
   "cell_type": "markdown",
   "metadata": {},
   "source": [
    "### 23. Write a method which can calculate square value of number"
   ]
  },
  {
   "cell_type": "code",
   "execution_count": 32,
   "metadata": {},
   "outputs": [
    {
     "name": "stdout",
     "output_type": "stream",
     "text": [
      "9\n"
     ]
    }
   ],
   "source": [
    "num=int(input())  ### 注意转换类型"
   ]
  },
  {
   "cell_type": "code",
   "execution_count": 33,
   "metadata": {},
   "outputs": [
    {
     "data": {
      "text/plain": [
       "81"
      ]
     },
     "execution_count": 33,
     "metadata": {},
     "output_type": "execute_result"
    }
   ],
   "source": [
    "def squareNum(num):\n",
    "    return(num**2)\n",
    "\n",
    "squareNum(num)"
   ]
  },
  {
   "cell_type": "markdown",
   "metadata": {},
   "source": [
    "### 24. Python has many built-in functions, and if you do not know how to use it, you can read document online or find some books. But Python has a built-in document function for every built-in functions.\n",
    "\n",
    ">Please write a program to print some Python built-in functions documents, such as abs(), int(), raw_input()\n",
    "\n",
    "Hits:The built-in document method is doc"
   ]
  },
  {
   "cell_type": "code",
   "execution_count": 35,
   "metadata": {},
   "outputs": [
    {
     "name": "stdout",
     "output_type": "stream",
     "text": [
      "str(object='') -> str\n",
      "str(bytes_or_buffer[, encoding[, errors]]) -> str\n",
      "\n",
      "Create a new string object from the given object. If encoding or\n",
      "errors is specified, then the object must expose a data buffer\n",
      "that will be decoded using the given encoding and error handler.\n",
      "Otherwise, returns the result of object.__str__() (if defined)\n",
      "or repr(object).\n",
      "encoding defaults to sys.getdefaultencoding().\n",
      "errors defaults to 'strict'.\n"
     ]
    }
   ],
   "source": [
    "print(str.__doc__)"
   ]
  },
  {
   "cell_type": "code",
   "execution_count": 36,
   "metadata": {},
   "outputs": [
    {
     "name": "stdout",
     "output_type": "stream",
     "text": [
      "Return a new list containing all items from the iterable in ascending order.\n",
      "\n",
      "A custom key function can be supplied to customize the sort order, and the\n",
      "reverse flag can be set to request the result in descending order.\n"
     ]
    }
   ],
   "source": [
    "print(sorted.__doc__)"
   ]
  },
  {
   "cell_type": "markdown",
   "metadata": {},
   "source": [
    "### 25. Define a class, which have a class parameter and have a same instance parameter.\n",
    "\n",
    "#### Hits\n",
    "Define an instance parameter, need add it in init method.You can init an object with construct parameter or set the value later"
   ]
  },
  {
   "cell_type": "code",
   "execution_count": 39,
   "metadata": {},
   "outputs": [
    {
     "name": "stdout",
     "output_type": "stream",
     "text": [
      "Car name is Honda\n"
     ]
    }
   ],
   "source": [
    "class Car():\n",
    "    name='Car'\n",
    "    def __init__(self,name=None):\n",
    "        self.name=name\n",
    "        \n",
    "honda=Car('Honda')\n",
    "print(f\"{Car.name} name is {honda.name}\")"
   ]
  },
  {
   "cell_type": "code",
   "execution_count": 40,
   "metadata": {},
   "outputs": [
    {
     "name": "stdout",
     "output_type": "stream",
     "text": [
      "Car name is aodi\n"
     ]
    }
   ],
   "source": [
    "aodi=Car()\n",
    "aodi.name=\"aodi\"\n",
    "print(f\"{Car.name} name is {aodi.name}\")  ### Car.name 和类.name 不同"
   ]
  },
  {
   "cell_type": "markdown",
   "metadata": {},
   "source": [
    "### 26. Define a function which can compute the sum of two numbers."
   ]
  },
  {
   "cell_type": "code",
   "execution_count": 41,
   "metadata": {},
   "outputs": [
    {
     "name": "stdout",
     "output_type": "stream",
     "text": [
      "8,9\n"
     ]
    }
   ],
   "source": [
    "nums=input().split(',')"
   ]
  },
  {
   "cell_type": "code",
   "execution_count": 42,
   "metadata": {},
   "outputs": [
    {
     "data": {
      "text/plain": [
       "17"
      ]
     },
     "execution_count": 42,
     "metadata": {},
     "output_type": "execute_result"
    }
   ],
   "source": [
    "def sumNums(nums):\n",
    "    return(sum(map(int,nums)))\n",
    "\n",
    "sumNums(nums)"
   ]
  },
  {
   "cell_type": "markdown",
   "metadata": {},
   "source": [
    "### OR"
   ]
  },
  {
   "cell_type": "code",
   "execution_count": 43,
   "metadata": {},
   "outputs": [
    {
     "name": "stdout",
     "output_type": "stream",
     "text": [
      "3\n"
     ]
    }
   ],
   "source": [
    "mySum=lambda n1,n2: n1+n2  ### 匿名函数\n",
    "print(mySum(1,2))"
   ]
  },
  {
   "cell_type": "markdown",
   "metadata": {},
   "source": [
    "### 27. Define a function that can convert a integer into a string and print it in console."
   ]
  },
  {
   "cell_type": "code",
   "execution_count": 44,
   "metadata": {},
   "outputs": [
    {
     "name": "stdout",
     "output_type": "stream",
     "text": [
      "10\n",
      "<class 'str'>\n"
     ]
    }
   ],
   "source": [
    "conv = lambda x: str(x)  ### 匿名函数\n",
    "n = conv(10)\n",
    "print(n)\n",
    "print(type(n))  # checks the type of the variable"
   ]
  },
  {
   "cell_type": "markdown",
   "metadata": {},
   "source": [
    "### 28. Define a function that can receive two integer numbers in string form and compute their sum and then print it in console."
   ]
  },
  {
   "cell_type": "code",
   "execution_count": 45,
   "metadata": {},
   "outputs": [
    {
     "name": "stdout",
     "output_type": "stream",
     "text": [
      "55\n"
     ]
    }
   ],
   "source": [
    "sum = lambda s1, s2: int(s1) + int(s2)\n",
    "print(sum(\"10\", \"45\"))  # 55"
   ]
  },
  {
   "cell_type": "markdown",
   "metadata": {},
   "source": [
    "### 29. Define a function that can accept two strings as input and concatenate them and then print it in console."
   ]
  },
  {
   "cell_type": "code",
   "execution_count": 48,
   "metadata": {},
   "outputs": [
    {
     "name": "stdout",
     "output_type": "stream",
     "text": [
      "1045\n"
     ]
    }
   ],
   "source": [
    "sum = lambda s1, s2: s1 + s2\n",
    "print(sum(\"10\", \"45\"))  # 55"
   ]
  },
  {
   "cell_type": "markdown",
   "metadata": {},
   "source": [
    "### 30. Define a function that can accept two strings as input and print the string with maximum length in console. If two strings have the same length, then the function should print all strings line by line."
   ]
  },
  {
   "cell_type": "code",
   "execution_count": 49,
   "metadata": {},
   "outputs": [
    {
     "name": "stdout",
     "output_type": "stream",
     "text": [
      "aaa bde\n",
      "aaa\n",
      "bde\n"
     ]
    }
   ],
   "source": [
    "def printVal(s1, s2):\n",
    "    len1 = len(s1)\n",
    "    len2 = len(s2)\n",
    "    if len1 > len2:\n",
    "        print(s1)\n",
    "    elif len1 < len2:\n",
    "        print(s2)\n",
    "    else:\n",
    "        print(s1)\n",
    "        print(s2)\n",
    "\n",
    "\n",
    "s1, s2 = input().split()\n",
    "printVal(s1, s2)"
   ]
  },
  {
   "cell_type": "markdown",
   "metadata": {},
   "source": [
    "### OR \n",
    "\n",
    "使用max 的参数设置"
   ]
  },
  {
   "cell_type": "code",
   "execution_count": 52,
   "metadata": {},
   "outputs": [
    {
     "name": "stdout",
     "output_type": "stream",
     "text": [
      "jjj iii\n",
      "jjj\n",
      "iii\n"
     ]
    }
   ],
   "source": [
    "maxLen=(lambda a,b: print(max((a,b),key=len))\n",
    "if len(a) != len(b)\n",
    "else print(a + \"\\n\" + b))  ### 匿名函数，使用条件判断\n",
    "\n",
    "s1, s2 = input().split()\n",
    "maxLen(s1, s2)"
   ]
  },
  {
   "cell_type": "markdown",
   "metadata": {},
   "source": [
    "### 小结\n",
    "\n",
    "这一部分，主要应用了迭代器yield；类的定义；统计序列中字母出现次数的多种解决方案，包括了序列和字典、字典和元祖的转换等技巧；以及匿名函数的应用。\n",
    "其中有以下部分仍需要深入学习：\n",
    "\n",
    "* 迭代器，yield 更广泛的应用\n",
    "* Counter 和字典的自由转换，及字典的默认值，字典和元祖，列表和元祖的结合等（统计字母出现次数的多种思路可以学习）\n",
    "* 匿名函数的熟练应用，及更为复杂的形式变化\n",
    "* 类的系统学习，类的创建、实例化等、类的方法等\n",
    "* 关于`str.__doc__` 获取內建函数的文档等\n",
    "* 以及多种格式化输出形式的应用\n"
   ]
  },
  {
   "cell_type": "markdown",
   "metadata": {},
   "source": []
  }
 ],
 "metadata": {
  "kernelspec": {
   "display_name": "Python 3",
   "language": "python",
   "name": "python3"
  },
  "language_info": {
   "codemirror_mode": {
    "name": "ipython",
    "version": 3
   },
   "file_extension": ".py",
   "mimetype": "text/x-python",
   "name": "python",
   "nbconvert_exporter": "python",
   "pygments_lexer": "ipython3",
   "version": "3.7.6"
  }
 },
 "nbformat": 4,
 "nbformat_minor": 4
}

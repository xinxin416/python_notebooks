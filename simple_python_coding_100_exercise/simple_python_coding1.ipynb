{
 "cells": [
  {
   "cell_type": "markdown",
   "metadata": {},
   "source": [
    "### 2.\n",
    ">Write a program which can compute the factorial of a given numbers.The results should be printed in a comma-separated sequence on a single line.Suppose the following input is supplied to the program: 8 Then, the output should be:40320"
   ]
  },
  {
   "cell_type": "markdown",
   "metadata": {},
   "source": [
    "#### In case of input data being supplied to the question, it should be assumed to be a console input."
   ]
  },
  {
   "cell_type": "code",
   "execution_count": 2,
   "metadata": {
    "scrolled": true
   },
   "outputs": [
    {
     "name": "stdout",
     "output_type": "stream",
     "text": [
      "a real number8\n"
     ]
    }
   ],
   "source": [
    "number=int(input(\"a real number:\"))\n",
    "def factorize(x):\n",
    "    if x==1:\n",
    "        return 1\n",
    "    return(x*factorize(x-1))\n",
    "factorize(number)      "
   ]
  },
  {
   "cell_type": "code",
   "execution_count": 19,
   "metadata": {},
   "outputs": [
    {
     "name": "stdout",
     "output_type": "stream",
     "text": [
      "40320\n"
     ]
    }
   ],
   "source": [
    "def factorize(x):\n",
    "    return(factorize(x-1)*x) if x!=1 else 1  ## 只能有一个return\n",
    "print(factorize(number))"
   ]
  },
  {
   "cell_type": "code",
   "execution_count": 7,
   "metadata": {},
   "outputs": [
    {
     "name": "stdout",
     "output_type": "stream",
     "text": [
      "40320\n"
     ]
    }
   ],
   "source": [
    "ans = 1\n",
    "for i in range(1,number+1):\n",
    "    ans = ans * i\n",
    "print(ans)"
   ]
  },
  {
   "cell_type": "code",
   "execution_count": 15,
   "metadata": {},
   "outputs": [
    {
     "name": "stdout",
     "output_type": "stream",
     "text": [
      "40320\n"
     ]
    }
   ],
   "source": [
    "ans = 1\n",
    "i=1\n",
    "while i<(number+1):\n",
    "    ans = ans * i\n",
    "    i = i+1\n",
    "print(ans)"
   ]
  },
  {
   "cell_type": "markdown",
   "metadata": {},
   "source": [
    "#### 3. \n",
    ">With a given integral number n, write a program to generate a dictionary that contains (i, i x i) such that is an integral number between 1 and n (both included). and then the program should print the dictionary.Suppose the following input is supplied to the program: 8\n",
    "\n",
    ">Then, the output should be:\n",
    "{1: 1, 2: 4, 3: 9, 4: 16, 5: 25, 6: 36, 7: 49, 8: 64}"
   ]
  },
  {
   "cell_type": "code",
   "execution_count": 23,
   "metadata": {},
   "outputs": [
    {
     "name": "stdout",
     "output_type": "stream",
     "text": [
      "a real number:8\n",
      "{1: 1, 2: 4, 3: 9, 4: 16, 5: 25, 6: 36, 7: 49, 8: 64}\n"
     ]
    }
   ],
   "source": [
    "dic = dict()\n",
    "number=int(input(\"a real number:\"))\n",
    "dic={i:i**2 for i in range(1,number+1)}\n",
    "print(dic)"
   ]
  },
  {
   "cell_type": "code",
   "execution_count": 24,
   "metadata": {},
   "outputs": [
    {
     "name": "stdout",
     "output_type": "stream",
     "text": [
      "a real number:9\n",
      "{1: 1, 2: 4, 3: 9, 4: 16, 5: 25, 6: 36, 7: 49, 8: 64, 9: 81}\n"
     ]
    }
   ],
   "source": [
    "dic={}\n",
    "number=int(input(\"a real number:\"))\n",
    "for i in range(1,number+1):\n",
    "    dic[i] = i*i\n",
    "print(dic)"
   ]
  },
  {
   "cell_type": "markdown",
   "metadata": {},
   "source": [
    "#### 4. \n",
    "> Write a program which accepts a sequence of comma-separated numbers from console and generate a list and a tuple which contains every number.Suppose the following input is supplied to the program:\n",
    "\n",
    ">Then, the output should be:['34', '67', '55', '33', '12', '98'] ('34', '67', '55', '33', '12', '98')"
   ]
  },
  {
   "cell_type": "code",
   "execution_count": 30,
   "metadata": {},
   "outputs": [
    {
     "name": "stdout",
     "output_type": "stream",
     "text": [
      "a sequence comma separated22,2,33,45\n"
     ]
    }
   ],
   "source": [
    "list1=input(\"a sequence comma separated\").split(',')  ## split函数"
   ]
  },
  {
   "cell_type": "code",
   "execution_count": 31,
   "metadata": {},
   "outputs": [
    {
     "data": {
      "text/plain": [
       "['22', '2', '33', '45']"
      ]
     },
     "execution_count": 31,
     "metadata": {},
     "output_type": "execute_result"
    }
   ],
   "source": [
    "list1"
   ]
  },
  {
   "cell_type": "code",
   "execution_count": 32,
   "metadata": {},
   "outputs": [
    {
     "data": {
      "text/plain": [
       "('22', '2', '33', '45')"
      ]
     },
     "execution_count": 32,
     "metadata": {},
     "output_type": "execute_result"
    }
   ],
   "source": [
    "tup1=tuple(list1)\n",
    "tup1"
   ]
  },
  {
   "cell_type": "markdown",
   "metadata": {},
   "source": [
    "#### 5. 创建对象及方法\n",
    ">Define a class which has at least two methods:\n",
    "\n",
    "* getString: to get a string from console input\n",
    "* printString: to print the string in upper case.\n",
    "> Also please include simple test function to test the class methods.\n",
    "\n",
    "#### Hits\n",
    "> _Use **init method to construct some parameters_**"
   ]
  },
  {
   "cell_type": "code",
   "execution_count": 34,
   "metadata": {},
   "outputs": [
    {
     "name": "stdout",
     "output_type": "stream",
     "text": [
      "xinxin\n",
      "XINXIN\n"
     ]
    }
   ],
   "source": [
    "class IOString:\n",
    "    def __init__(self):  ##触发时机：实例化对象,初始化的时候触发\n",
    "        pass\n",
    "    def getString(self):\n",
    "        self.s=input()\n",
    "    def printString(self):\n",
    "        print(self.s.upper())\n",
    "\n",
    "xx=IOString() ##新建对象\n",
    "xx.getString()\n",
    "xx.printString()"
   ]
  },
  {
   "cell_type": "markdown",
   "metadata": {},
   "source": [
    "#### 6. 根据公式，计算数值。数值从控制台输入\n",
    "\n"
   ]
  },
  {
   "cell_type": "code",
   "execution_count": 36,
   "metadata": {},
   "outputs": [
    {
     "name": "stdout",
     "output_type": "stream",
     "text": [
      "seq separated with comma:50,100\n"
     ]
    }
   ],
   "source": [
    "C,H=50,30\n",
    "D=input(\"seq separated with comma:\").split(',')"
   ]
  },
  {
   "cell_type": "code",
   "execution_count": 40,
   "metadata": {},
   "outputs": [
    {
     "name": "stdout",
     "output_type": "stream",
     "text": [
      "[12, 18]\n"
     ]
    }
   ],
   "source": [
    "import math\n",
    "ans=[int(math.sqrt(2*C*int(d)/H)) for d in D]\n",
    "print(ans)\n",
    "    "
   ]
  },
  {
   "cell_type": "markdown",
   "metadata": {},
   "source": [
    "#### OR"
   ]
  },
  {
   "cell_type": "code",
   "execution_count": 47,
   "metadata": {},
   "outputs": [
    {
     "name": "stdout",
     "output_type": "stream",
     "text": [
      "30,20\n",
      "10,8\n"
     ]
    }
   ],
   "source": [
    "def cal(D):\n",
    "    return(str(int(math.sqrt(2*C*int(D)/H))))\n",
    "\n",
    "D=input().split(',')\n",
    "ans=list(map(cal,D))  ### 模块化思想，map，函数\n",
    "print(\",\".join(ans))  ### 只有字符串能连接"
   ]
  },
  {
   "cell_type": "markdown",
   "metadata": {},
   "source": [
    "#### 7. 输入两个数，x，y，生成一个二维数组，其中第i，j个元素的值为i*j。\n",
    "Then, the output of the program should be:[[0, 0, 0, 0, 0], [0, 1, 2, 3, 4], [0, 2, 4, 6, 8]]"
   ]
  },
  {
   "cell_type": "code",
   "execution_count": 50,
   "metadata": {},
   "outputs": [
    {
     "name": "stdout",
     "output_type": "stream",
     "text": [
      "3,4\n",
      "[[0, 0, 0, 0], [0, 1, 2, 3], [0, 2, 4, 6]]\n"
     ]
    }
   ],
   "source": [
    "x,y=map(int,input().split(','))\n",
    "lst=[]\n",
    "for i in range(x):\n",
    "    tmp=[]\n",
    "    for j in range(y):\n",
    "        tmp.append(i*j)\n",
    "    lst.append(tmp)\n",
    "print(lst)"
   ]
  },
  {
   "cell_type": "markdown",
   "metadata": {},
   "source": [
    "### OR"
   ]
  },
  {
   "cell_type": "code",
   "execution_count": 51,
   "metadata": {},
   "outputs": [
    {
     "name": "stdout",
     "output_type": "stream",
     "text": [
      "[[0, 0, 0, 0], [0, 1, 2, 3], [0, 2, 4, 6]]\n"
     ]
    }
   ],
   "source": [
    "lst=[]\n",
    "lst=[[i*j for j in range(y)]for i in range(x)]  ### 注意内层也为列表\n",
    "print(lst)"
   ]
  },
  {
   "cell_type": "markdown",
   "metadata": {},
   "source": [
    "### 8. 输入一串字符，按字符表对其排序"
   ]
  },
  {
   "cell_type": "code",
   "execution_count": 53,
   "metadata": {},
   "outputs": [
    {
     "name": "stdout",
     "output_type": "stream",
     "text": [
      "hello,good,bad,world\n"
     ]
    },
    {
     "data": {
      "text/plain": [
       "'bad,good,hello,world'"
      ]
     },
     "execution_count": 53,
     "metadata": {},
     "output_type": "execute_result"
    }
   ],
   "source": [
    "strs=input().split(',')\n",
    "strs.sort()  ### 直接更改字符串\n",
    "\",\".join(strs)  ### 不能直接对strs.sort()排序"
   ]
  },
  {
   "cell_type": "markdown",
   "metadata": {},
   "source": [
    "### 9. 输入多行字符串，将其全部转换为大写。"
   ]
  },
  {
   "cell_type": "code",
   "execution_count": 55,
   "metadata": {},
   "outputs": [
    {
     "name": "stdout",
     "output_type": "stream",
     "text": [
      "hello world\n",
      "HELLO WORLD\n",
      "nice day!\n",
      "NICE DAY!\n",
      "\n"
     ]
    }
   ],
   "source": [
    "lst=[]\n",
    "def user_input():\n",
    "    while True: \n",
    "        s=input()\n",
    "        if not s:  ### 可以不断输入，直到输入下一个换行符终止\n",
    "            return\n",
    "        yield s   ### yield 生成迭代器，运行效率更快\n",
    "\n",
    "for line in map(str.upper,user_input()):\n",
    "    print(line)"
   ]
  },
  {
   "cell_type": "markdown",
   "metadata": {},
   "source": [
    "### 10. 输入一串空格分割字符串，将其去重，并排序。"
   ]
  },
  {
   "cell_type": "code",
   "execution_count": 58,
   "metadata": {},
   "outputs": [
    {
     "name": "stdout",
     "output_type": "stream",
     "text": [
      "hello y y a \n"
     ]
    },
    {
     "data": {
      "text/plain": [
       "' a hello y'"
      ]
     },
     "execution_count": 58,
     "metadata": {},
     "output_type": "execute_result"
    }
   ],
   "source": [
    "strs=sorted(set(input().split(' '))) ###\n",
    "' '.join(strs)"
   ]
  },
  {
   "cell_type": "code",
   "execution_count": 59,
   "metadata": {},
   "outputs": [
    {
     "name": "stdout",
     "output_type": "stream",
     "text": [
      "hello y y a\n"
     ]
    },
    {
     "data": {
      "text/plain": [
       "'a hello y'"
      ]
     },
     "execution_count": 59,
     "metadata": {},
     "output_type": "execute_result"
    }
   ],
   "source": [
    "strs=list(sorted(set(input().split(' ')))) ###增加list，会去除开始的空格\n",
    "' '.join(strs)"
   ]
  },
  {
   "cell_type": "markdown",
   "metadata": {},
   "source": [
    "### 11. 输入一串逗号分割二进制序列，输出其中能被5整除的二进制数"
   ]
  },
  {
   "cell_type": "code",
   "execution_count": 64,
   "metadata": {},
   "outputs": [
    {
     "name": "stdout",
     "output_type": "stream",
     "text": [
      "0100,0011,1010,1001\n"
     ]
    },
    {
     "data": {
      "text/plain": [
       "'1010'"
      ]
     },
     "execution_count": 64,
     "metadata": {},
     "output_type": "execute_result"
    }
   ],
   "source": [
    "numbers=input().split(',')\n",
    "def binaryDivid5(data):\n",
    "    return(filter(lambda x: int(x,2)%5==0,data)) ## int 对二进制的转换，filter函数生成的迭代器\n",
    "\",\".join(binaryDivid5(numbers))"
   ]
  },
  {
   "cell_type": "markdown",
   "metadata": {},
   "source": [
    "### 12. 返回2000-3000数中，数字每一位都是偶数的数。"
   ]
  },
  {
   "cell_type": "code",
   "execution_count": 67,
   "metadata": {},
   "outputs": [
    {
     "data": {
      "text/plain": [
       "'2000,2002,2004,2006,2008,2020,2022,2024,2026,2028,2040,2042,2044,2046,2048,2060,2062,2064,2066,2068,2080,2082,2084,2086,2088,2200,2202,2204,2206,2208,2220,2222,2224,2226,2228,2240,2242,2244,2246,2248,2260,2262,2264,2266,2268,2280,2282,2284,2286,2288,2400,2402,2404,2406,2408,2420,2422,2424,2426,2428,2440,2442,2444,2446,2448,2460,2462,2464,2466,2468,2480,2482,2484,2486,2488,2600,2602,2604,2606,2608,2620,2622,2624,2626,2628,2640,2642,2644,2646,2648,2660,2662,2664,2666,2668,2680,2682,2684,2686,2688,2800,2802,2804,2806,2808,2820,2822,2824,2826,2828,2840,2842,2844,2846,2848,2860,2862,2864,2866,2868,2880,2882,2884,2886,2888'"
      ]
     },
     "execution_count": 67,
     "metadata": {},
     "output_type": "execute_result"
    }
   ],
   "source": [
    "def check(x):\n",
    "    return(all(ord(i)%2==0 for i in x))\n",
    "\n",
    "data=[str(i) for i in range(2000,3001)]\n",
    "lst=filter(check,data)\n",
    "print(\",\".join(lst))  ### 无法在连接中改变字符类型？"
   ]
  },
  {
   "cell_type": "markdown",
   "metadata": {},
   "source": [
    "### 13. 输出一串序列，统计其中字母、数字个数。"
   ]
  },
  {
   "cell_type": "code",
   "execution_count": 69,
   "metadata": {
    "scrolled": true
   },
   "outputs": [
    {
     "name": "stdout",
     "output_type": "stream",
     "text": [
      "HELLO WORLD 233\n",
      "LETTERS 10\n",
      "DIGITS 3\n",
      "\n"
     ]
    }
   ],
   "source": [
    "words=input()\n",
    "LETTERS,DIGITS=0,0\n",
    "for word in words:\n",
    "    if word.isalpha():   ### 空格不算\n",
    "        LETTERS += 1\n",
    "    elif word.isdigit():\n",
    "        DIGITS += 1\n",
    "print(f'LETTERS {LETTERS}\\nDIGITS {DIGITS}\\n')"
   ]
  },
  {
   "cell_type": "markdown",
   "metadata": {},
   "source": [
    "### OR"
   ]
  },
  {
   "cell_type": "code",
   "execution_count": null,
   "metadata": {},
   "outputs": [],
   "source": [
    "word = input()\n",
    "letter, digit = 0, 0\n",
    "\n",
    "for i in word:\n",
    "    if (\"a\" <= i and i <= \"z\") or (\"A\" <= i and i <= \"Z\"):\n",
    "        letter += 1\n",
    "    if \"0\" <= i and i <= \"9\":\n",
    "        digit += 1\n",
    "\n",
    "print(\"LETTERS {0}\\nDIGITS {1}\".format(letter, digit))"
   ]
  },
  {
   "cell_type": "markdown",
   "metadata": {},
   "source": [
    "### 小结"
   ]
  },
  {
   "cell_type": "markdown",
   "metadata": {},
   "source": [
    "1. 涉及内容包括从列表、字符、集合、字典等等一些基本定义、方法运用。\n",
    "2. 其中不乏一些小技巧，如filter，map，ord，yield，lambda函数等，但我认为其核心思想在于迭代器的运用。\n",
    "3. 其中有一些细节需要把握，比如什么时候要转换为list，而不是以集合元素存储，以及range生成序列的范围，控制台输入字符转整型等。\n",
    "4. 对二维数组元素的构建、及创建对象的语法框架需要理解。（5，7题）"
   ]
  },
  {
   "cell_type": "code",
   "execution_count": null,
   "metadata": {},
   "outputs": [],
   "source": []
  }
 ],
 "metadata": {
  "kernelspec": {
   "display_name": "Python 3",
   "language": "python",
   "name": "python3"
  },
  "language_info": {
   "codemirror_mode": {
    "name": "ipython",
    "version": 3
   },
   "file_extension": ".py",
   "mimetype": "text/x-python",
   "name": "python",
   "nbconvert_exporter": "python",
   "pygments_lexer": "ipython3",
   "version": "3.7.6"
  }
 },
 "nbformat": 4,
 "nbformat_minor": 4
}

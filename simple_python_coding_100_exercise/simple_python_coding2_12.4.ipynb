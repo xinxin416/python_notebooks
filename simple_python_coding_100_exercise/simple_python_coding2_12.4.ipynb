{
 "cells": [
  {
   "cell_type": "markdown",
   "metadata": {},
   "source": [
    "### 14. 统计输入字符大写、小写数目"
   ]
  },
  {
   "cell_type": "code",
   "execution_count": 1,
   "metadata": {},
   "outputs": [
    {
     "name": "stdout",
     "output_type": "stream",
     "text": [
      "Hello\n"
     ]
    }
   ],
   "source": [
    "strs=input()"
   ]
  },
  {
   "cell_type": "code",
   "execution_count": 2,
   "metadata": {},
   "outputs": [
    {
     "name": "stdout",
     "output_type": "stream",
     "text": [
      "UPPER CASE 1\n",
      "LOWER CASE 4\n"
     ]
    }
   ],
   "source": [
    "def countCapter(s):\n",
    "    capLetter,lowerLetter=0,0\n",
    "    for i in s:\n",
    "        if \"A\" <= i and i <= \"Z\": ### 不能直接 A-Z\n",
    "            capLetter += 1\n",
    "        elif \"a\" <= i and i <= \"z\":\n",
    "            lowerLetter += 1\n",
    "    return(capLetter,lowerLetter)\n",
    "out=countCapter(strs)\n",
    "print(\"UPPER CASE {0}\\nLOWER CASE {1}\".format(out[0], out[1]))"
   ]
  },
  {
   "cell_type": "markdown",
   "metadata": {},
   "source": [
    "### OR"
   ]
  },
  {
   "cell_type": "code",
   "execution_count": 3,
   "metadata": {},
   "outputs": [
    {
     "name": "stdout",
     "output_type": "stream",
     "text": [
      "UPPER CASE 1\n",
      "LOWER CASE 4\n",
      "\n"
     ]
    }
   ],
   "source": [
    "def countCapter(s):\n",
    "    capLetter,lowerLetter=0,0\n",
    "    capLetter=sum(1 for i in s if i.isupper())  ### 条件判断的列表解析式\n",
    "    lowerLetter=sum(1 for i in s if i.islower())\n",
    "    return(capLetter,lowerLetter)\n",
    "\n",
    "out=countCapter(strs)\n",
    "print(\"UPPER CASE {0}\\nLOWER CASE {1}\\n\".format(out[0], out[1]))"
   ]
  },
  {
   "cell_type": "markdown",
   "metadata": {},
   "source": [
    "### 15. 给定一个数a，计算a+aa+aaa+aaaa 的值。"
   ]
  },
  {
   "cell_type": "code",
   "execution_count": 4,
   "metadata": {},
   "outputs": [
    {
     "name": "stdout",
     "output_type": "stream",
     "text": [
      "9\n"
     ]
    }
   ],
   "source": [
    "a=int(input())"
   ]
  },
  {
   "cell_type": "code",
   "execution_count": 5,
   "metadata": {},
   "outputs": [
    {
     "data": {
      "text/plain": [
       "11106"
      ]
     },
     "execution_count": 5,
     "metadata": {},
     "output_type": "execute_result"
    }
   ],
   "source": [
    "def countAAAA(num):\n",
    "    sumA=0\n",
    "    tmp = num\n",
    "    while tmp <10000:\n",
    "        sumA += tmp\n",
    "        tmp = num + tmp*10   ### 加一个tmp 值很有必要\n",
    "    return(sumA)\n",
    "\n",
    "countAAAA(a)\n",
    "    "
   ]
  },
  {
   "cell_type": "markdown",
   "metadata": {},
   "source": [
    "### OR 用字符的重复函数"
   ]
  },
  {
   "cell_type": "code",
   "execution_count": 6,
   "metadata": {},
   "outputs": [
    {
     "name": "stdout",
     "output_type": "stream",
     "text": [
      "9\n"
     ]
    }
   ],
   "source": [
    "a=input()  ### 此处不要使用int 转换"
   ]
  },
  {
   "cell_type": "code",
   "execution_count": 7,
   "metadata": {},
   "outputs": [
    {
     "name": "stdout",
     "output_type": "stream",
     "text": [
      "11106\n"
     ]
    }
   ],
   "source": [
    "print(int(a)+int(a*2)+int(a*3)+int(a*4))"
   ]
  },
  {
   "cell_type": "markdown",
   "metadata": {},
   "source": [
    "### 16. 给定一串逗号分隔的数字列表，输出其中为奇数的数字。"
   ]
  },
  {
   "cell_type": "code",
   "execution_count": 8,
   "metadata": {},
   "outputs": [
    {
     "name": "stdout",
     "output_type": "stream",
     "text": [
      "89,9,0,2\n"
     ]
    }
   ],
   "source": [
    "numL=input().split(',')  ### 先切割"
   ]
  },
  {
   "cell_type": "code",
   "execution_count": 9,
   "metadata": {},
   "outputs": [
    {
     "name": "stdout",
     "output_type": "stream",
     "text": [
      "89,9\n"
     ]
    }
   ],
   "source": [
    "outOdd=[str(x) for x in map(int,numL) if x%2 != 0]  ### 需要将字符转数字，使用map 函数\n",
    "print(','.join(outOdd))  ### 连接函数，只针对字符"
   ]
  },
  {
   "cell_type": "markdown",
   "metadata": {},
   "source": [
    "### 17. 给定一个账户存取记录，输出最后的账户余额\n",
    "\n",
    "假定D，deposit，存取；W，withdraw，取出。\n",
    "\n",
    "D 100\n",
    "\n",
    "W 200\n",
    "\n",
    "给定存取记录：\n",
    "\n",
    "D 300\n",
    "\n",
    "D 300\n",
    "\n",
    "W 200\n",
    "\n",
    "D 100\n",
    "\n",
    "则最后输出：\n",
    "\n",
    "500"
   ]
  },
  {
   "cell_type": "code",
   "execution_count": 10,
   "metadata": {},
   "outputs": [
    {
     "name": "stdout",
     "output_type": "stream",
     "text": [
      "D 300\n",
      "\n"
     ]
    },
    {
     "data": {
      "text/plain": [
       "300"
      ]
     },
     "execution_count": 10,
     "metadata": {},
     "output_type": "execute_result"
    }
   ],
   "source": [
    "def accountSum():\n",
    "    total = 0\n",
    "    while True:\n",
    "        s=input().split()  ### 默认以空格分割？\n",
    "        if not s:\n",
    "            break\n",
    "        acts,num=map(str,s)\n",
    "        if acts == 'D':\n",
    "            total += int(num)\n",
    "        if acts == 'W':\n",
    "            total -= int(num)\n",
    "    return total\n",
    "\n",
    "accountSum()"
   ]
  },
  {
   "cell_type": "markdown",
   "metadata": {},
   "source": [
    "### OR 通过list 保存存取记录\n",
    "\n",
    "* 只有两种记录，W，D，直到终止\n",
    "* 一种方式是每次判断是佛找到W、D，找到，则strip 该字符和空格，并将数值相加\n",
    "* 一种是直接对输入结合列表解析式处理\n",
    "\n",
    "以上两种方式的基础都是，直接对一行记录存取"
   ]
  },
  {
   "cell_type": "markdown",
   "metadata": {},
   "source": [
    "### OR"
   ]
  },
  {
   "cell_type": "code",
   "execution_count": 11,
   "metadata": {},
   "outputs": [
    {
     "name": "stdout",
     "output_type": "stream",
     "text": [
      "D 200\n",
      "\n"
     ]
    },
    {
     "data": {
      "text/plain": [
       "200"
      ]
     },
     "execution_count": 11,
     "metadata": {},
     "output_type": "execute_result"
    }
   ],
   "source": [
    "def accountSum():\n",
    "    total=0\n",
    "    logL=[]\n",
    "    while True:\n",
    "        s=input() \n",
    "        if not s:\n",
    "            break\n",
    "        logL.append(s)\n",
    "    \n",
    "    for log in logL:\n",
    "        if 'D' in log:\n",
    "            total += int(log.strip('D '))\n",
    "        if 'W' in log:\n",
    "            total -= int(log.strip('W '))        \n",
    "    return total\n",
    "accountSum()"
   ]
  },
  {
   "cell_type": "markdown",
   "metadata": {},
   "source": [
    "### OR 列表解析"
   ]
  },
  {
   "cell_type": "code",
   "execution_count": 12,
   "metadata": {},
   "outputs": [
    {
     "name": "stdout",
     "output_type": "stream",
     "text": [
      "D 600\n",
      "\n"
     ]
    },
    {
     "data": {
      "text/plain": [
       "600"
      ]
     },
     "execution_count": 12,
     "metadata": {},
     "output_type": "execute_result"
    }
   ],
   "source": [
    "def accountSum():\n",
    "    total=0\n",
    "    logL=[]\n",
    "    while True:\n",
    "        s=input() \n",
    "        if not s:\n",
    "            break\n",
    "        logL.append(s)\n",
    "\n",
    "    return(sum([int(log[2:]) if log[0]=='D' else -int(log[2:]) for log in logL]))  ### 注意类型转换，列表解析满足条件返回值一般在左边\n",
    "accountSum()"
   ]
  },
  {
   "cell_type": "markdown",
   "metadata": {},
   "source": [
    "### 18. 判断一串逗号分隔的序列，是否满足密码输入标准\n",
    "\n",
    "合法密码标准如下：\n",
    "\n",
    "* At least 1 letter between [a-z]\n",
    "* At least 1 number between [0-9]\n",
    "* At least 1 letter between [A-Z]\n",
    "* At least 1 character from [$#@]\n",
    "* Minimum length of transaction password: 6\n",
    "* Maximum length of transaction password: 12\n",
    "                             \n",
    "如：ABd1234@1,a F1#,2w3E*,2We3345\n",
    "输出：ABd1234@1"
   ]
  },
  {
   "cell_type": "code",
   "execution_count": 13,
   "metadata": {},
   "outputs": [
    {
     "name": "stdout",
     "output_type": "stream",
     "text": [
      "ABd1234@1,a F1#,2w3E*,2We3345\n"
     ]
    },
    {
     "data": {
      "text/plain": [
       "False"
      ]
     },
     "execution_count": 13,
     "metadata": {},
     "output_type": "execute_result"
    }
   ],
   "source": [
    "import re\n",
    "def validatePassword(password):\n",
    "    if len(password)<6 or len(password)>12:\n",
    "        return False\n",
    "    if not bool(re.search('[#@$]',password)):\n",
    "        return False\n",
    "    if not bool(re.search('[a-z]',password)):\n",
    "        return False\n",
    "    if not bool(re.search('[A-Z]',password)):\n",
    "        return False\n",
    "    if not bool(re.search('[0-9]',password)):\n",
    "        return False\n",
    "    return True\n",
    "\n",
    "validatePassword(input().split(','))  ### 以上总是输出FALSE，但是未找到原因"
   ]
  },
  {
   "cell_type": "code",
   "execution_count": 14,
   "metadata": {},
   "outputs": [
    {
     "name": "stdout",
     "output_type": "stream",
     "text": [
      "False\n"
     ]
    }
   ],
   "source": [
    "s=re.search('[#@$]',\"3rtAD2\")\n",
    "print(bool(s))"
   ]
  },
  {
   "cell_type": "markdown",
   "metadata": {},
   "source": [
    "### 正解："
   ]
  },
  {
   "cell_type": "code",
   "execution_count": 15,
   "metadata": {},
   "outputs": [
    {
     "name": "stdout",
     "output_type": "stream",
     "text": [
      "ABd1234@1,a F1#,2w3E*,2We3345\n",
      "ABd1234@1\n"
     ]
    }
   ],
   "source": [
    "import re\n",
    "\n",
    "s = input().split(\",\")\n",
    "lst = []\n",
    "\n",
    "for i in s:\n",
    "    cnt = 0\n",
    "    cnt += 6 <= len(i) and len(i) <= 12\n",
    "    cnt += bool(\n",
    "        re.search(\"[a-z]\", i)\n",
    "    )  # here re module includes a function re.search() which returns the object information\n",
    "    cnt += bool(\n",
    "        re.search(\"[A-Z]\", i)\n",
    "    )  # of where the pattern string i is matched with any of the [a-z]/[A-z]/[0=9]/[@#$] characters\n",
    "    cnt += bool(\n",
    "        re.search(\"[0-9]\", i)\n",
    "    )  # if not a single match found then returns NONE which converts to False in boolean\n",
    "    cnt += bool(re.search(\"[@#$]\", i))  # expression otherwise True if found any.\n",
    "    if cnt == 5:\n",
    "        lst.append(i)\n",
    "\n",
    "print(\",\".join(lst))"
   ]
  },
  {
   "cell_type": "markdown",
   "metadata": {},
   "source": [
    "### 19. 给定一串以姓名，年龄，得分组成的序列，存储为元祖，并将其按姓名、年龄、得分进行排序\n",
    "\n",
    "Tom,19,80\n",
    "\n",
    "John,20,90\n",
    "\n",
    "Jony,17,91\n",
    "\n",
    "Jony,17,93\n",
    "\n",
    "Json,21,85\n",
    "\n",
    "输出：[('John', '20', '90'), ('Jony', '17', '91'), ('Jony', '17', '93'), ('Json', '21', '85'), ('Tom', '19', '80')]"
   ]
  },
  {
   "cell_type": "code",
   "execution_count": 16,
   "metadata": {},
   "outputs": [
    {
     "name": "stdout",
     "output_type": "stream",
     "text": [
      "Tom,19,80\n",
      "\n"
     ]
    },
    {
     "data": {
      "text/plain": [
       "[('Tom', '19', '80')]"
      ]
     },
     "execution_count": 16,
     "metadata": {},
     "output_type": "execute_result"
    }
   ],
   "source": [
    "def sortTuple():\n",
    "    items=[]\n",
    "    while True:\n",
    "        item=input().split(',')\n",
    "        if not item[0]:  ### 务必是0，否则会陷入死循环，为什么？？\n",
    "            break\n",
    "        items.append(tuple(item))\n",
    "        \n",
    "    items.sort(key=lambda x: (x[0],x[1],x[2]))\n",
    "    return(items)\n",
    "\n",
    "sortTuple()"
   ]
  },
  {
   "cell_type": "markdown",
   "metadata": {},
   "source": [
    "### 小结\n",
    "\n",
    "这次共做了一些关于字符串判定、元祖排序、正则表达式判定，列表解析式等。感觉比较有难度的是正则表达式和元祖的排序，以及在实现过程中对多行输入的存取和判定。\n",
    "\n",
    "有一些需要注意的地方：\n",
    "\n",
    "* 还是输入的内容存储为字符，在进行计算是需要注意\n",
    "* 将输入内容作为列表存储时，使用split 分隔，默认是空格，没有必要再添加空格？？其次，可以在输入结合strip 函数\n",
    "* 关于正则表达式，默认是返回匹配下标，需要显示使用bool 操作符转换\n",
    "* 关于元祖，使用匿名函数进行排序，键的设置仍然是以元祖方式"
   ]
  },
  {
   "cell_type": "code",
   "execution_count": null,
   "metadata": {},
   "outputs": [],
   "source": []
  }
 ],
 "metadata": {
  "kernelspec": {
   "display_name": "Python 3",
   "language": "python",
   "name": "python3"
  },
  "language_info": {
   "codemirror_mode": {
    "name": "ipython",
    "version": 3
   },
   "file_extension": ".py",
   "mimetype": "text/x-python",
   "name": "python",
   "nbconvert_exporter": "python",
   "pygments_lexer": "ipython3",
   "version": "3.7.6"
  }
 },
 "nbformat": 4,
 "nbformat_minor": 4
}
